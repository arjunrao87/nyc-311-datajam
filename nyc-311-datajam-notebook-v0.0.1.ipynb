{
 "cells": [
  {
   "cell_type": "code",
   "execution_count": 1,
   "metadata": {},
   "outputs": [
    {
     "name": "stdout",
     "output_type": "stream",
     "text": [
      "Requirement already satisfied: pandas in /anaconda/lib/python3.6/site-packages\r\n",
      "Requirement already satisfied: python-dateutil>=2 in /anaconda/lib/python3.6/site-packages (from pandas)\r\n",
      "Requirement already satisfied: pytz>=2011k in /anaconda/lib/python3.6/site-packages (from pandas)\r\n",
      "Requirement already satisfied: numpy>=1.7.0 in /anaconda/lib/python3.6/site-packages (from pandas)\r\n",
      "Requirement already satisfied: six>=1.5 in /anaconda/lib/python3.6/site-packages (from python-dateutil>=2->pandas)\r\n"
     ]
    }
   ],
   "source": [
    "# Source code - https://dev.socrata.com/foundry/data.cityofnewyork.us/fhrw-4uyv\n",
    "!pip install pandas"
   ]
  },
  {
   "cell_type": "code",
   "execution_count": 2,
   "metadata": {},
   "outputs": [
    {
     "name": "stdout",
     "output_type": "stream",
     "text": [
      "Requirement already satisfied: sodapy in /anaconda/lib/python3.6/site-packages\n",
      "Requirement already satisfied: requests==2.12.1 in /anaconda/lib/python3.6/site-packages (from sodapy)\n",
      "Requirement already satisfied: future==0.16.0 in /anaconda/lib/python3.6/site-packages (from sodapy)\n"
     ]
    }
   ],
   "source": [
    "!pip install sodapy"
   ]
  },
  {
   "cell_type": "code",
   "execution_count": 3,
   "metadata": {
    "collapsed": true
   },
   "outputs": [],
   "source": [
    "import pandas as pd\n",
    "from sodapy import Socrata"
   ]
  },
  {
   "cell_type": "code",
   "execution_count": 4,
   "metadata": {},
   "outputs": [
    {
     "name": "stderr",
     "output_type": "stream",
     "text": [
      "WARNING:root:Requests made without an app_token will be subject to strict throttling limits.\n"
     ]
    }
   ],
   "source": [
    "client = Socrata(\"data.cityofnewyork.us\", None)"
   ]
  },
  {
   "cell_type": "code",
   "execution_count": 5,
   "metadata": {
    "collapsed": true
   },
   "outputs": [],
   "source": [
    "results = client.get(\"fhrw-4uyv\", limit=2000)"
   ]
  },
  {
   "cell_type": "code",
   "execution_count": 6,
   "metadata": {
    "collapsed": true
   },
   "outputs": [],
   "source": [
    "results_df = pd.DataFrame.from_records(results)"
   ]
  },
  {
   "cell_type": "code",
   "execution_count": 7,
   "metadata": {},
   "outputs": [
    {
     "data": {
      "text/plain": [
       "(2000, 48)"
      ]
     },
     "execution_count": 7,
     "metadata": {},
     "output_type": "execute_result"
    }
   ],
   "source": [
    "results_df.shape"
   ]
  },
  {
   "cell_type": "code",
   "execution_count": 8,
   "metadata": {},
   "outputs": [
    {
     "data": {
      "text/plain": [
       "Index(['address_type', 'agency', 'agency_name', 'borough',\n",
       "       'bridge_highway_direction', 'bridge_highway_name',\n",
       "       'bridge_highway_segment', 'city', 'closed_date', 'community_board',\n",
       "       'complaint_type', 'created_date', 'cross_street_1', 'cross_street_2',\n",
       "       'descriptor', 'due_date', 'facility_type', 'incident_address',\n",
       "       'incident_zip', 'intersection_street_1', 'intersection_street_2',\n",
       "       'landmark', 'latitude', 'location', 'location_type', 'longitude',\n",
       "       'park_borough', 'park_facility_name', 'resolution_action_updated_date',\n",
       "       'resolution_description', 'road_ramp', 'school_address', 'school_city',\n",
       "       'school_code', 'school_name', 'school_not_found', 'school_number',\n",
       "       'school_phone_number', 'school_region', 'school_state', 'school_zip',\n",
       "       'status', 'street_name', 'taxi_company_borough',\n",
       "       'taxi_pick_up_location', 'unique_key', 'x_coordinate_state_plane',\n",
       "       'y_coordinate_state_plane'],\n",
       "      dtype='object')"
      ]
     },
     "execution_count": 8,
     "metadata": {},
     "output_type": "execute_result"
    }
   ],
   "source": [
    "results_df.columns"
   ]
  },
  {
   "cell_type": "code",
   "execution_count": 9,
   "metadata": {},
   "outputs": [
    {
     "data": {
      "text/plain": [
       "48"
      ]
     },
     "execution_count": 9,
     "metadata": {},
     "output_type": "execute_result"
    }
   ],
   "source": [
    "results_df.columns.size"
   ]
  },
  {
   "cell_type": "code",
   "execution_count": 10,
   "metadata": {},
   "outputs": [
    {
     "data": {
      "text/plain": [
       "BROOKLYN         605\n",
       "QUEENS           482\n",
       "MANHATTAN        461\n",
       "BRONX            374\n",
       "STATEN ISLAND     78\n",
       "Name: borough, dtype: int64"
      ]
     },
     "execution_count": 10,
     "metadata": {},
     "output_type": "execute_result"
    }
   ],
   "source": [
    "results_df[\"borough\"].value_counts()"
   ]
  },
  {
   "cell_type": "raw",
   "metadata": {},
   "source": [
    "results_df[\"created_date\"]"
   ]
  },
  {
   "cell_type": "code",
   "execution_count": 11,
   "metadata": {},
   "outputs": [
    {
     "data": {
      "text/plain": [
       "0       2016-01-20T13:25:49.000\n",
       "1       2016-01-20T21:44:13.000\n",
       "2       2016-01-20T12:27:32.000\n",
       "3       2016-01-20T16:27:19.000\n",
       "4       2016-01-20T11:17:07.000\n",
       "5       2016-01-20T13:27:08.000\n",
       "6       2016-01-20T13:58:44.000\n",
       "7       2016-01-20T16:19:41.000\n",
       "8       2016-01-20T11:53:40.000\n",
       "9       2016-01-20T19:56:24.000\n",
       "10      2016-01-20T15:05:29.000\n",
       "11      2016-01-20T11:34:29.000\n",
       "12      2016-01-20T20:47:40.000\n",
       "13      2016-01-20T14:06:59.000\n",
       "14      2016-01-20T21:44:13.000\n",
       "15      2016-01-20T11:27:41.000\n",
       "16      2016-01-20T09:47:18.000\n",
       "17      2016-01-20T02:13:55.000\n",
       "18      2016-01-20T11:29:04.000\n",
       "19      2016-01-20T07:49:24.000\n",
       "20      2016-01-20T21:17:45.000\n",
       "21      2016-01-20T21:49:40.000\n",
       "22      2016-01-20T10:48:56.000\n",
       "23      2016-01-20T09:01:42.000\n",
       "24      2016-01-20T18:22:37.000\n",
       "25      2016-01-20T15:24:36.000\n",
       "26      2016-01-20T18:02:58.000\n",
       "27      2016-01-20T16:05:44.000\n",
       "28      2016-01-20T11:34:40.000\n",
       "29      2016-01-20T13:32:08.000\n",
       "                 ...           \n",
       "1970    2016-01-21T13:56:50.000\n",
       "1971    2016-01-21T15:46:17.000\n",
       "1972    2016-01-21T17:12:38.000\n",
       "1973    2016-01-21T14:17:10.000\n",
       "1974    2016-01-21T23:36:02.000\n",
       "1975    2016-01-21T09:20:00.000\n",
       "1976    2016-01-21T07:46:00.000\n",
       "1977    2016-01-21T07:38:57.000\n",
       "1978    2016-01-21T22:21:41.000\n",
       "1979    2016-01-21T21:15:18.000\n",
       "1980    2016-01-21T22:15:56.000\n",
       "1981    2016-01-21T23:00:02.000\n",
       "1982    2016-01-21T08:48:00.000\n",
       "1983    2016-01-21T00:17:00.000\n",
       "1984    2016-01-21T15:17:20.000\n",
       "1985    2016-01-21T21:44:30.000\n",
       "1986    2016-01-21T13:49:55.000\n",
       "1987    2016-01-22T01:49:44.000\n",
       "1988    2016-01-21T22:24:51.000\n",
       "1989    2016-01-21T18:16:00.000\n",
       "1990    2016-01-21T18:55:14.000\n",
       "1991    2016-01-21T16:14:00.000\n",
       "1992    2016-01-21T07:17:00.000\n",
       "1993    2016-01-21T16:27:06.000\n",
       "1994    2016-01-21T07:43:57.000\n",
       "1995    2016-01-21T18:34:26.000\n",
       "1996    2016-01-21T10:08:07.000\n",
       "1997    2016-01-21T17:12:49.000\n",
       "1998    2016-01-21T16:43:37.000\n",
       "1999    2016-01-21T15:04:51.000\n",
       "Name: created_date, Length: 2000, dtype: object"
      ]
     },
     "execution_count": 11,
     "metadata": {},
     "output_type": "execute_result"
    }
   ],
   "source": [
    "results_df[\"created_date\"]"
   ]
  },
  {
   "cell_type": "code",
   "execution_count": 30,
   "metadata": {},
   "outputs": [],
   "source": [
    "import matplotlib.pyplot as plt\n",
    "%matplotlib inline "
   ]
  },
  {
   "cell_type": "code",
   "execution_count": null,
   "metadata": {},
   "outputs": [],
   "source": []
  },
  {
   "cell_type": "code",
   "execution_count": 28,
   "metadata": {},
   "outputs": [],
   "source": [
    "import datetime\n",
    "def parse_full_date(row):\n",
    "    date = datetime.datetime.strptime(row[\"created_date\"], \"%Y-%m-%dT%H:%M:%S.%f\")\n",
    "    return date\n",
    "\n",
    "results_df[\"created_date\"] = results_df.apply(parse_full_date, axis=1)"
   ]
  },
  {
   "cell_type": "code",
   "execution_count": 29,
   "metadata": {},
   "outputs": [
    {
     "data": {
      "text/plain": [
       "0      2016-01-20 13:25:49\n",
       "1      2016-01-20 21:44:13\n",
       "2      2016-01-20 12:27:32\n",
       "3      2016-01-20 16:27:19\n",
       "4      2016-01-20 11:17:07\n",
       "5      2016-01-20 13:27:08\n",
       "6      2016-01-20 13:58:44\n",
       "7      2016-01-20 16:19:41\n",
       "8      2016-01-20 11:53:40\n",
       "9      2016-01-20 19:56:24\n",
       "10     2016-01-20 15:05:29\n",
       "11     2016-01-20 11:34:29\n",
       "12     2016-01-20 20:47:40\n",
       "13     2016-01-20 14:06:59\n",
       "14     2016-01-20 21:44:13\n",
       "15     2016-01-20 11:27:41\n",
       "16     2016-01-20 09:47:18\n",
       "17     2016-01-20 02:13:55\n",
       "18     2016-01-20 11:29:04\n",
       "19     2016-01-20 07:49:24\n",
       "20     2016-01-20 21:17:45\n",
       "21     2016-01-20 21:49:40\n",
       "22     2016-01-20 10:48:56\n",
       "23     2016-01-20 09:01:42\n",
       "24     2016-01-20 18:22:37\n",
       "25     2016-01-20 15:24:36\n",
       "26     2016-01-20 18:02:58\n",
       "27     2016-01-20 16:05:44\n",
       "28     2016-01-20 11:34:40\n",
       "29     2016-01-20 13:32:08\n",
       "               ...        \n",
       "1970   2016-01-21 13:56:50\n",
       "1971   2016-01-21 15:46:17\n",
       "1972   2016-01-21 17:12:38\n",
       "1973   2016-01-21 14:17:10\n",
       "1974   2016-01-21 23:36:02\n",
       "1975   2016-01-21 09:20:00\n",
       "1976   2016-01-21 07:46:00\n",
       "1977   2016-01-21 07:38:57\n",
       "1978   2016-01-21 22:21:41\n",
       "1979   2016-01-21 21:15:18\n",
       "1980   2016-01-21 22:15:56\n",
       "1981   2016-01-21 23:00:02\n",
       "1982   2016-01-21 08:48:00\n",
       "1983   2016-01-21 00:17:00\n",
       "1984   2016-01-21 15:17:20\n",
       "1985   2016-01-21 21:44:30\n",
       "1986   2016-01-21 13:49:55\n",
       "1987   2016-01-22 01:49:44\n",
       "1988   2016-01-21 22:24:51\n",
       "1989   2016-01-21 18:16:00\n",
       "1990   2016-01-21 18:55:14\n",
       "1991   2016-01-21 16:14:00\n",
       "1992   2016-01-21 07:17:00\n",
       "1993   2016-01-21 16:27:06\n",
       "1994   2016-01-21 07:43:57\n",
       "1995   2016-01-21 18:34:26\n",
       "1996   2016-01-21 10:08:07\n",
       "1997   2016-01-21 17:12:49\n",
       "1998   2016-01-21 16:43:37\n",
       "1999   2016-01-21 15:04:51\n",
       "Name: created_date, Length: 2000, dtype: datetime64[ns]"
      ]
     },
     "execution_count": 29,
     "metadata": {},
     "output_type": "execute_result"
    }
   ],
   "source": [
    "results_df[\"created_date\"]"
   ]
  },
  {
   "cell_type": "code",
   "execution_count": 35,
   "metadata": {},
   "outputs": [
    {
     "data": {
      "text/plain": [
       "0       13:25:49\n",
       "1       21:44:13\n",
       "2       12:27:32\n",
       "3       16:27:19\n",
       "4       11:17:07\n",
       "5       13:27:08\n",
       "6       13:58:44\n",
       "7       16:19:41\n",
       "8       11:53:40\n",
       "9       19:56:24\n",
       "10      15:05:29\n",
       "11      11:34:29\n",
       "12      20:47:40\n",
       "13      14:06:59\n",
       "14      21:44:13\n",
       "15      11:27:41\n",
       "16      09:47:18\n",
       "17      02:13:55\n",
       "18      11:29:04\n",
       "19      07:49:24\n",
       "20      21:17:45\n",
       "21      21:49:40\n",
       "22      10:48:56\n",
       "23      09:01:42\n",
       "24      18:22:37\n",
       "25      15:24:36\n",
       "26      18:02:58\n",
       "27      16:05:44\n",
       "28      11:34:40\n",
       "29      13:32:08\n",
       "          ...   \n",
       "1970    13:56:50\n",
       "1971    15:46:17\n",
       "1972    17:12:38\n",
       "1973    14:17:10\n",
       "1974    23:36:02\n",
       "1975    09:20:00\n",
       "1976    07:46:00\n",
       "1977    07:38:57\n",
       "1978    22:21:41\n",
       "1979    21:15:18\n",
       "1980    22:15:56\n",
       "1981    23:00:02\n",
       "1982    08:48:00\n",
       "1983    00:17:00\n",
       "1984    15:17:20\n",
       "1985    21:44:30\n",
       "1986    13:49:55\n",
       "1987    01:49:44\n",
       "1988    22:24:51\n",
       "1989    18:16:00\n",
       "1990    18:55:14\n",
       "1991    16:14:00\n",
       "1992    07:17:00\n",
       "1993    16:27:06\n",
       "1994    07:43:57\n",
       "1995    18:34:26\n",
       "1996    10:08:07\n",
       "1997    17:12:49\n",
       "1998    16:43:37\n",
       "1999    15:04:51\n",
       "Name: created_date, Length: 2000, dtype: object"
      ]
     },
     "execution_count": 35,
     "metadata": {},
     "output_type": "execute_result"
    }
   ],
   "source": [
    "results_df[\"created_date\"].dt.time"
   ]
  },
  {
   "cell_type": "code",
   "execution_count": 36,
   "metadata": {},
   "outputs": [
    {
     "data": {
      "text/plain": [
       "(array([    4.,     0.,    61.,  1888.,    43.,     4.]),\n",
       " array([ 0.,  1.,  2.,  3.,  4.,  5.,  6.]),\n",
       " <a list of 6 Patch objects>)"
      ]
     },
     "execution_count": 36,
     "metadata": {},
     "output_type": "execute_result"
    },
    {
     "data": {
      "image/png": "[encoded data removed]",
      "text/plain": [
       "<matplotlib.figure.Figure at 0x10d7dd160>"
      ]
     },
     "metadata": {},
     "output_type": "display_data"
    }
   ],
   "source": [
    "plt.hist(results_df[\"created_date\"].dt.weekday, bins=6)"
   ]
  },
  {
   "cell_type": "code",
   "execution_count": 37,
   "metadata": {},
   "outputs": [
    {
     "data": {
      "text/plain": [
       "(array([  72.,   22.,   26.,   11.,   16.,   24.,   38.,   69.,   69.,\n",
       "         125.,  140.,  140.,  128.,  132.,  128.,  137.,  108.,  110.,\n",
       "         115.,   72.,   78.,   88.,   85.,   67.]),\n",
       " array([  0.        ,   0.95833333,   1.91666667,   2.875     ,\n",
       "          3.83333333,   4.79166667,   5.75      ,   6.70833333,\n",
       "          7.66666667,   8.625     ,   9.58333333,  10.54166667,\n",
       "         11.5       ,  12.45833333,  13.41666667,  14.375     ,\n",
       "         15.33333333,  16.29166667,  17.25      ,  18.20833333,\n",
       "         19.16666667,  20.125     ,  21.08333333,  22.04166667,  23.        ]),\n",
       " <a list of 24 Patch objects>)"
      ]
     },
     "execution_count": 37,
     "metadata": {},
     "output_type": "execute_result"
    },
    {
     "data": {
      "image/png": "[encoded data removed]",
      "text/plain": [
       "<matplotlib.figure.Figure at 0x110dbc8d0>"
      ]
     },
     "metadata": {},
     "output_type": "display_data"
    }
   ],
   "source": [
    "plt.hist(results_df[\"created_date\"].dt.hour, bins=24)"
   ]
  },
  {
   "cell_type": "code",
   "execution_count": null,
   "metadata": {
    "collapsed": true
   },
   "outputs": [],
   "source": []
  }
 ],
 "metadata": {
  "kernelspec": {
   "display_name": "Python 3",
   "language": "python",
   "name": "python3"
  },
  "language_info": {
   "codemirror_mode": {
    "name": "ipython",
    "version": 3
   },
   "file_extension": ".py",
   "mimetype": "text/x-python",
   "name": "python",
   "nbconvert_exporter": "python",
   "pygments_lexer": "ipython3",
   "version": "3.6.1"
  }
 },
 "nbformat": 4,
 "nbformat_minor": 2
}
